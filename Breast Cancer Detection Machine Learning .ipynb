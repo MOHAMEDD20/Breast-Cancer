{
 "cells": [
  {
   "cell_type": "markdown",
   "metadata": {},
   "source": [
    "**Function and modules for data preparation and visualization**"
   ]
  },
  {
   "cell_type": "code",
   "execution_count": 1,
   "metadata": {
    "id": "b4cGMMTdKyfe"
   },
   "outputs": [],
   "source": [
    "import pandas as pd\n",
    "import numpy as np\n",
    "import matplotlib.pyplot as plt\n",
    "%matplotlib inline\n",
    "import seaborn as sns\n",
    "from scipy import stats\n",
    "from pandas.plotting import scatter_matrix\n",
    "import matplotlib\n",
    "import sklearn\n",
    "\n",
    "import warnings\n",
    "warnings.filterwarnings('ignore')\n",
    "import re\n",
    "import os"
   ]
  },
  {
   "cell_type": "markdown",
   "metadata": {},
   "source": [
    "**Function and modules for the supervised Classification models**"
   ]
  },
  {
   "cell_type": "code",
   "execution_count": 2,
   "metadata": {},
   "outputs": [],
   "source": [
    "from sklearn.ensemble import RandomForestClassifier\n",
    "from sklearn.svm import SVC\n",
    "from sklearn.neighbors import KNeighborsClassifier"
   ]
  },
  {
   "cell_type": "markdown",
   "metadata": {},
   "source": [
    "**Function and modules for data analysis and model evaluation**"
   ]
  },
  {
   "cell_type": "code",
   "execution_count": 3,
   "metadata": {},
   "outputs": [],
   "source": [
    "from sklearn.model_selection import GridSearchCV\n",
    "from sklearn.model_selection import train_test_split\n",
    "from sklearn.model_selection import StratifiedKFold,ShuffleSplit\n",
    "from sklearn.model_selection import KFold\n",
    "from sklearn.model_selection import cross_val_score\n",
    "from sklearn.metrics import classification_report,confusion_matrix,accuracy_score\n",
    "from sklearn import model_selection\n",
    "from sklearn.preprocessing import OrdinalEncoder\n",
    "from sklearn.preprocessing import MinMaxScaler\n",
    "\n",
    "from sklearn.metrics import log_loss\n",
    "from sklearn.metrics import roc_auc_score\n",
    "from sklearn.metrics import precision_score\n",
    "from sklearn.metrics import recall_score\n",
    "from sklearn.metrics import f1_score\n",
    "from sklearn.metrics import matthews_corrcoef"
   ]
  },
  {
   "cell_type": "markdown",
   "metadata": {
    "id": "39wrIBQcw4ob"
   },
   "source": [
    "**Read inputs & outputs (Data)**"
   ]
  },
  {
   "cell_type": "code",
   "execution_count": 4,
   "metadata": {
    "id": "J_QfTht6sQtx"
   },
   "outputs": [],
   "source": [
    "df=pd.read_csv('Breast_GSE42568.csv',)"
   ]
  },
  {
   "cell_type": "code",
   "execution_count": 5,
   "metadata": {},
   "outputs": [
    {
     "data": {
      "text/html": [
       "<div>\n",
       "<style scoped>\n",
       "    .dataframe tbody tr th:only-of-type {\n",
       "        vertical-align: middle;\n",
       "    }\n",
       "\n",
       "    .dataframe tbody tr th {\n",
       "        vertical-align: top;\n",
       "    }\n",
       "\n",
       "    .dataframe thead th {\n",
       "        text-align: right;\n",
       "    }\n",
       "</style>\n",
       "<table border=\"1\" class=\"dataframe\">\n",
       "  <thead>\n",
       "    <tr style=\"text-align: right;\">\n",
       "      <th></th>\n",
       "      <th>samples</th>\n",
       "      <th>type</th>\n",
       "      <th>1007_s_at</th>\n",
       "      <th>1053_at</th>\n",
       "      <th>117_at</th>\n",
       "      <th>121_at</th>\n",
       "      <th>1255_g_at</th>\n",
       "      <th>1294_at</th>\n",
       "      <th>1316_at</th>\n",
       "      <th>1320_at</th>\n",
       "      <th>...</th>\n",
       "      <th>AFFX-r2-Ec-bioD-3_at</th>\n",
       "      <th>AFFX-r2-Ec-bioD-5_at</th>\n",
       "      <th>AFFX-r2-P1-cre-3_at</th>\n",
       "      <th>AFFX-r2-P1-cre-5_at</th>\n",
       "      <th>AFFX-ThrX-3_at</th>\n",
       "      <th>AFFX-ThrX-5_at</th>\n",
       "      <th>AFFX-ThrX-M_at</th>\n",
       "      <th>AFFX-TrpnX-3_at</th>\n",
       "      <th>AFFX-TrpnX-5_at</th>\n",
       "      <th>AFFX-TrpnX-M_at</th>\n",
       "    </tr>\n",
       "  </thead>\n",
       "  <tbody>\n",
       "    <tr>\n",
       "      <th>0</th>\n",
       "      <td>191</td>\n",
       "      <td>normal</td>\n",
       "      <td>7.944225</td>\n",
       "      <td>5.256938</td>\n",
       "      <td>4.934630</td>\n",
       "      <td>6.608426</td>\n",
       "      <td>2.484290</td>\n",
       "      <td>7.019424</td>\n",
       "      <td>6.892690</td>\n",
       "      <td>4.082880</td>\n",
       "      <td>...</td>\n",
       "      <td>12.679336</td>\n",
       "      <td>12.318159</td>\n",
       "      <td>13.799560</td>\n",
       "      <td>13.587273</td>\n",
       "      <td>9.363057</td>\n",
       "      <td>6.057322</td>\n",
       "      <td>7.563571</td>\n",
       "      <td>2.368188</td>\n",
       "      <td>2.652841</td>\n",
       "      <td>2.833601</td>\n",
       "    </tr>\n",
       "    <tr>\n",
       "      <th>1</th>\n",
       "      <td>194</td>\n",
       "      <td>normal</td>\n",
       "      <td>8.884037</td>\n",
       "      <td>5.331575</td>\n",
       "      <td>4.904832</td>\n",
       "      <td>7.204006</td>\n",
       "      <td>2.749701</td>\n",
       "      <td>6.972236</td>\n",
       "      <td>6.070183</td>\n",
       "      <td>3.701337</td>\n",
       "      <td>...</td>\n",
       "      <td>13.634795</td>\n",
       "      <td>13.481412</td>\n",
       "      <td>14.218437</td>\n",
       "      <td>14.140858</td>\n",
       "      <td>11.468037</td>\n",
       "      <td>7.779574</td>\n",
       "      <td>9.760999</td>\n",
       "      <td>2.580490</td>\n",
       "      <td>2.857335</td>\n",
       "      <td>3.066533</td>\n",
       "    </tr>\n",
       "    <tr>\n",
       "      <th>2</th>\n",
       "      <td>195</td>\n",
       "      <td>normal</td>\n",
       "      <td>7.567701</td>\n",
       "      <td>5.346073</td>\n",
       "      <td>5.065426</td>\n",
       "      <td>6.974676</td>\n",
       "      <td>2.621078</td>\n",
       "      <td>7.225207</td>\n",
       "      <td>7.068959</td>\n",
       "      <td>4.021849</td>\n",
       "      <td>...</td>\n",
       "      <td>13.038809</td>\n",
       "      <td>12.717493</td>\n",
       "      <td>13.985694</td>\n",
       "      <td>13.816163</td>\n",
       "      <td>9.887965</td>\n",
       "      <td>6.594833</td>\n",
       "      <td>7.974958</td>\n",
       "      <td>2.331745</td>\n",
       "      <td>2.799020</td>\n",
       "      <td>3.011013</td>\n",
       "    </tr>\n",
       "    <tr>\n",
       "      <th>3</th>\n",
       "      <td>196</td>\n",
       "      <td>normal</td>\n",
       "      <td>7.683403</td>\n",
       "      <td>5.579011</td>\n",
       "      <td>4.879720</td>\n",
       "      <td>6.878121</td>\n",
       "      <td>2.508380</td>\n",
       "      <td>7.160766</td>\n",
       "      <td>6.888001</td>\n",
       "      <td>3.953837</td>\n",
       "      <td>...</td>\n",
       "      <td>11.785462</td>\n",
       "      <td>11.218846</td>\n",
       "      <td>13.182389</td>\n",
       "      <td>12.862490</td>\n",
       "      <td>8.670256</td>\n",
       "      <td>5.167771</td>\n",
       "      <td>6.751504</td>\n",
       "      <td>2.518946</td>\n",
       "      <td>2.678521</td>\n",
       "      <td>3.041044</td>\n",
       "    </tr>\n",
       "    <tr>\n",
       "      <th>4</th>\n",
       "      <td>197</td>\n",
       "      <td>normal</td>\n",
       "      <td>6.844834</td>\n",
       "      <td>5.675430</td>\n",
       "      <td>4.723207</td>\n",
       "      <td>6.699592</td>\n",
       "      <td>2.514456</td>\n",
       "      <td>6.851628</td>\n",
       "      <td>6.033075</td>\n",
       "      <td>4.224256</td>\n",
       "      <td>...</td>\n",
       "      <td>12.086133</td>\n",
       "      <td>11.566570</td>\n",
       "      <td>13.285725</td>\n",
       "      <td>13.044677</td>\n",
       "      <td>9.299935</td>\n",
       "      <td>5.380516</td>\n",
       "      <td>7.431685</td>\n",
       "      <td>2.430470</td>\n",
       "      <td>2.659238</td>\n",
       "      <td>3.218955</td>\n",
       "    </tr>\n",
       "    <tr>\n",
       "      <th>...</th>\n",
       "      <td>...</td>\n",
       "      <td>...</td>\n",
       "      <td>...</td>\n",
       "      <td>...</td>\n",
       "      <td>...</td>\n",
       "      <td>...</td>\n",
       "      <td>...</td>\n",
       "      <td>...</td>\n",
       "      <td>...</td>\n",
       "      <td>...</td>\n",
       "      <td>...</td>\n",
       "      <td>...</td>\n",
       "      <td>...</td>\n",
       "      <td>...</td>\n",
       "      <td>...</td>\n",
       "      <td>...</td>\n",
       "      <td>...</td>\n",
       "      <td>...</td>\n",
       "      <td>...</td>\n",
       "      <td>...</td>\n",
       "      <td>...</td>\n",
       "    </tr>\n",
       "    <tr>\n",
       "      <th>111</th>\n",
       "      <td>307</td>\n",
       "      <td>tumoral</td>\n",
       "      <td>8.865190</td>\n",
       "      <td>5.420830</td>\n",
       "      <td>4.628802</td>\n",
       "      <td>6.304356</td>\n",
       "      <td>2.400503</td>\n",
       "      <td>7.466041</td>\n",
       "      <td>6.045653</td>\n",
       "      <td>3.469206</td>\n",
       "      <td>...</td>\n",
       "      <td>12.752298</td>\n",
       "      <td>12.440982</td>\n",
       "      <td>13.872615</td>\n",
       "      <td>13.575243</td>\n",
       "      <td>8.103647</td>\n",
       "      <td>4.700951</td>\n",
       "      <td>5.861282</td>\n",
       "      <td>2.442950</td>\n",
       "      <td>2.421543</td>\n",
       "      <td>2.778937</td>\n",
       "    </tr>\n",
       "    <tr>\n",
       "      <th>112</th>\n",
       "      <td>308</td>\n",
       "      <td>tumoral</td>\n",
       "      <td>9.200912</td>\n",
       "      <td>5.177657</td>\n",
       "      <td>4.618140</td>\n",
       "      <td>6.327677</td>\n",
       "      <td>2.463490</td>\n",
       "      <td>6.821004</td>\n",
       "      <td>5.709384</td>\n",
       "      <td>3.656983</td>\n",
       "      <td>...</td>\n",
       "      <td>12.696856</td>\n",
       "      <td>12.407032</td>\n",
       "      <td>13.861499</td>\n",
       "      <td>13.638063</td>\n",
       "      <td>9.161220</td>\n",
       "      <td>4.813848</td>\n",
       "      <td>6.999200</td>\n",
       "      <td>2.585284</td>\n",
       "      <td>2.572086</td>\n",
       "      <td>2.927002</td>\n",
       "    </tr>\n",
       "    <tr>\n",
       "      <th>113</th>\n",
       "      <td>309</td>\n",
       "      <td>tumoral</td>\n",
       "      <td>8.675410</td>\n",
       "      <td>5.784583</td>\n",
       "      <td>5.349351</td>\n",
       "      <td>7.107116</td>\n",
       "      <td>2.525008</td>\n",
       "      <td>7.589807</td>\n",
       "      <td>5.724006</td>\n",
       "      <td>3.657753</td>\n",
       "      <td>...</td>\n",
       "      <td>12.692024</td>\n",
       "      <td>12.316381</td>\n",
       "      <td>13.692009</td>\n",
       "      <td>13.521965</td>\n",
       "      <td>9.352961</td>\n",
       "      <td>4.681047</td>\n",
       "      <td>7.055527</td>\n",
       "      <td>2.494807</td>\n",
       "      <td>2.986089</td>\n",
       "      <td>3.062063</td>\n",
       "    </tr>\n",
       "    <tr>\n",
       "      <th>114</th>\n",
       "      <td>310</td>\n",
       "      <td>tumoral</td>\n",
       "      <td>10.027844</td>\n",
       "      <td>5.853110</td>\n",
       "      <td>4.904169</td>\n",
       "      <td>6.593784</td>\n",
       "      <td>2.672050</td>\n",
       "      <td>6.925438</td>\n",
       "      <td>6.128790</td>\n",
       "      <td>3.593575</td>\n",
       "      <td>...</td>\n",
       "      <td>11.822191</td>\n",
       "      <td>11.343470</td>\n",
       "      <td>13.100664</td>\n",
       "      <td>12.862788</td>\n",
       "      <td>8.922177</td>\n",
       "      <td>4.858633</td>\n",
       "      <td>6.898066</td>\n",
       "      <td>2.448368</td>\n",
       "      <td>2.672017</td>\n",
       "      <td>2.717255</td>\n",
       "    </tr>\n",
       "    <tr>\n",
       "      <th>115</th>\n",
       "      <td>311</td>\n",
       "      <td>tumoral</td>\n",
       "      <td>9.295468</td>\n",
       "      <td>5.581375</td>\n",
       "      <td>4.990976</td>\n",
       "      <td>6.550836</td>\n",
       "      <td>2.544604</td>\n",
       "      <td>7.312683</td>\n",
       "      <td>6.772506</td>\n",
       "      <td>3.487454</td>\n",
       "      <td>...</td>\n",
       "      <td>12.948093</td>\n",
       "      <td>12.659523</td>\n",
       "      <td>13.942934</td>\n",
       "      <td>13.707323</td>\n",
       "      <td>8.383750</td>\n",
       "      <td>5.105472</td>\n",
       "      <td>6.512371</td>\n",
       "      <td>2.471677</td>\n",
       "      <td>2.650102</td>\n",
       "      <td>3.061223</td>\n",
       "    </tr>\n",
       "  </tbody>\n",
       "</table>\n",
       "<p>116 rows × 54677 columns</p>\n",
       "</div>"
      ],
      "text/plain": [
       "     samples     type  1007_s_at   1053_at    117_at    121_at  1255_g_at  \\\n",
       "0        191   normal   7.944225  5.256938  4.934630  6.608426   2.484290   \n",
       "1        194   normal   8.884037  5.331575  4.904832  7.204006   2.749701   \n",
       "2        195   normal   7.567701  5.346073  5.065426  6.974676   2.621078   \n",
       "3        196   normal   7.683403  5.579011  4.879720  6.878121   2.508380   \n",
       "4        197   normal   6.844834  5.675430  4.723207  6.699592   2.514456   \n",
       "..       ...      ...        ...       ...       ...       ...        ...   \n",
       "111      307  tumoral   8.865190  5.420830  4.628802  6.304356   2.400503   \n",
       "112      308  tumoral   9.200912  5.177657  4.618140  6.327677   2.463490   \n",
       "113      309  tumoral   8.675410  5.784583  5.349351  7.107116   2.525008   \n",
       "114      310  tumoral  10.027844  5.853110  4.904169  6.593784   2.672050   \n",
       "115      311  tumoral   9.295468  5.581375  4.990976  6.550836   2.544604   \n",
       "\n",
       "      1294_at   1316_at   1320_at  ...  AFFX-r2-Ec-bioD-3_at  \\\n",
       "0    7.019424  6.892690  4.082880  ...             12.679336   \n",
       "1    6.972236  6.070183  3.701337  ...             13.634795   \n",
       "2    7.225207  7.068959  4.021849  ...             13.038809   \n",
       "3    7.160766  6.888001  3.953837  ...             11.785462   \n",
       "4    6.851628  6.033075  4.224256  ...             12.086133   \n",
       "..        ...       ...       ...  ...                   ...   \n",
       "111  7.466041  6.045653  3.469206  ...             12.752298   \n",
       "112  6.821004  5.709384  3.656983  ...             12.696856   \n",
       "113  7.589807  5.724006  3.657753  ...             12.692024   \n",
       "114  6.925438  6.128790  3.593575  ...             11.822191   \n",
       "115  7.312683  6.772506  3.487454  ...             12.948093   \n",
       "\n",
       "     AFFX-r2-Ec-bioD-5_at  AFFX-r2-P1-cre-3_at  AFFX-r2-P1-cre-5_at  \\\n",
       "0               12.318159            13.799560            13.587273   \n",
       "1               13.481412            14.218437            14.140858   \n",
       "2               12.717493            13.985694            13.816163   \n",
       "3               11.218846            13.182389            12.862490   \n",
       "4               11.566570            13.285725            13.044677   \n",
       "..                    ...                  ...                  ...   \n",
       "111             12.440982            13.872615            13.575243   \n",
       "112             12.407032            13.861499            13.638063   \n",
       "113             12.316381            13.692009            13.521965   \n",
       "114             11.343470            13.100664            12.862788   \n",
       "115             12.659523            13.942934            13.707323   \n",
       "\n",
       "     AFFX-ThrX-3_at  AFFX-ThrX-5_at  AFFX-ThrX-M_at  AFFX-TrpnX-3_at  \\\n",
       "0          9.363057        6.057322        7.563571         2.368188   \n",
       "1         11.468037        7.779574        9.760999         2.580490   \n",
       "2          9.887965        6.594833        7.974958         2.331745   \n",
       "3          8.670256        5.167771        6.751504         2.518946   \n",
       "4          9.299935        5.380516        7.431685         2.430470   \n",
       "..              ...             ...             ...              ...   \n",
       "111        8.103647        4.700951        5.861282         2.442950   \n",
       "112        9.161220        4.813848        6.999200         2.585284   \n",
       "113        9.352961        4.681047        7.055527         2.494807   \n",
       "114        8.922177        4.858633        6.898066         2.448368   \n",
       "115        8.383750        5.105472        6.512371         2.471677   \n",
       "\n",
       "     AFFX-TrpnX-5_at  AFFX-TrpnX-M_at  \n",
       "0           2.652841         2.833601  \n",
       "1           2.857335         3.066533  \n",
       "2           2.799020         3.011013  \n",
       "3           2.678521         3.041044  \n",
       "4           2.659238         3.218955  \n",
       "..               ...              ...  \n",
       "111         2.421543         2.778937  \n",
       "112         2.572086         2.927002  \n",
       "113         2.986089         3.062063  \n",
       "114         2.672017         2.717255  \n",
       "115         2.650102         3.061223  \n",
       "\n",
       "[116 rows x 54677 columns]"
      ]
     },
     "execution_count": 5,
     "metadata": {},
     "output_type": "execute_result"
    }
   ],
   "source": [
    "df.dropna()"
   ]
  },
  {
   "cell_type": "code",
   "execution_count": 6,
   "metadata": {},
   "outputs": [
    {
     "data": {
      "text/plain": [
       "0"
      ]
     },
     "execution_count": 6,
     "metadata": {},
     "output_type": "execute_result"
    }
   ],
   "source": [
    "df.type.isnull().sum()"
   ]
  },
  {
   "cell_type": "code",
   "execution_count": 7,
   "metadata": {},
   "outputs": [
    {
     "data": {
      "text/plain": [
       "<AxesSubplot:>"
      ]
     },
     "execution_count": 7,
     "metadata": {},
     "output_type": "execute_result"
    },
    {
     "data": {
      "image/png": "[encoded data removed]",
      "text/plain": [
       "<Figure size 432x288 with 1 Axes>"
      ]
     },
     "metadata": {
      "needs_background": "light"
     },
     "output_type": "display_data"
    }
   ],
   "source": [
    "df['type'].value_counts().plot(kind=\"bar\")"
   ]
  },
  {
   "cell_type": "code",
   "execution_count": 8,
   "metadata": {},
   "outputs": [],
   "source": [
    "DF_RM_DUP = df.drop_duplicates()"
   ]
  },
  {
   "cell_type": "code",
   "execution_count": 9,
   "metadata": {},
   "outputs": [],
   "source": [
    "dft=df.drop(columns = ['samples'])"
   ]
  },
  {
   "cell_type": "code",
   "execution_count": 10,
   "metadata": {},
   "outputs": [
    {
     "data": {
      "text/html": [
       "<div>\n",
       "<style scoped>\n",
       "    .dataframe tbody tr th:only-of-type {\n",
       "        vertical-align: middle;\n",
       "    }\n",
       "\n",
       "    .dataframe tbody tr th {\n",
       "        vertical-align: top;\n",
       "    }\n",
       "\n",
       "    .dataframe thead th {\n",
       "        text-align: right;\n",
       "    }\n",
       "</style>\n",
       "<table border=\"1\" class=\"dataframe\">\n",
       "  <thead>\n",
       "    <tr style=\"text-align: right;\">\n",
       "      <th></th>\n",
       "      <th>type</th>\n",
       "      <th>1007_s_at</th>\n",
       "      <th>1053_at</th>\n",
       "      <th>117_at</th>\n",
       "      <th>121_at</th>\n",
       "      <th>1255_g_at</th>\n",
       "      <th>1294_at</th>\n",
       "      <th>1316_at</th>\n",
       "      <th>1320_at</th>\n",
       "      <th>1405_i_at</th>\n",
       "      <th>...</th>\n",
       "      <th>AFFX-r2-Ec-bioD-3_at</th>\n",
       "      <th>AFFX-r2-Ec-bioD-5_at</th>\n",
       "      <th>AFFX-r2-P1-cre-3_at</th>\n",
       "      <th>AFFX-r2-P1-cre-5_at</th>\n",
       "      <th>AFFX-ThrX-3_at</th>\n",
       "      <th>AFFX-ThrX-5_at</th>\n",
       "      <th>AFFX-ThrX-M_at</th>\n",
       "      <th>AFFX-TrpnX-3_at</th>\n",
       "      <th>AFFX-TrpnX-5_at</th>\n",
       "      <th>AFFX-TrpnX-M_at</th>\n",
       "    </tr>\n",
       "  </thead>\n",
       "  <tbody>\n",
       "    <tr>\n",
       "      <th>0</th>\n",
       "      <td>normal</td>\n",
       "      <td>7.944225</td>\n",
       "      <td>5.256938</td>\n",
       "      <td>4.934630</td>\n",
       "      <td>6.608426</td>\n",
       "      <td>2.484290</td>\n",
       "      <td>7.019424</td>\n",
       "      <td>6.892690</td>\n",
       "      <td>4.082880</td>\n",
       "      <td>6.143621</td>\n",
       "      <td>...</td>\n",
       "      <td>12.679336</td>\n",
       "      <td>12.318159</td>\n",
       "      <td>13.799560</td>\n",
       "      <td>13.587273</td>\n",
       "      <td>9.363057</td>\n",
       "      <td>6.057322</td>\n",
       "      <td>7.563571</td>\n",
       "      <td>2.368188</td>\n",
       "      <td>2.652841</td>\n",
       "      <td>2.833601</td>\n",
       "    </tr>\n",
       "    <tr>\n",
       "      <th>1</th>\n",
       "      <td>normal</td>\n",
       "      <td>8.884037</td>\n",
       "      <td>5.331575</td>\n",
       "      <td>4.904832</td>\n",
       "      <td>7.204006</td>\n",
       "      <td>2.749701</td>\n",
       "      <td>6.972236</td>\n",
       "      <td>6.070183</td>\n",
       "      <td>3.701337</td>\n",
       "      <td>4.895399</td>\n",
       "      <td>...</td>\n",
       "      <td>13.634795</td>\n",
       "      <td>13.481412</td>\n",
       "      <td>14.218437</td>\n",
       "      <td>14.140858</td>\n",
       "      <td>11.468037</td>\n",
       "      <td>7.779574</td>\n",
       "      <td>9.760999</td>\n",
       "      <td>2.580490</td>\n",
       "      <td>2.857335</td>\n",
       "      <td>3.066533</td>\n",
       "    </tr>\n",
       "    <tr>\n",
       "      <th>2</th>\n",
       "      <td>normal</td>\n",
       "      <td>7.567701</td>\n",
       "      <td>5.346073</td>\n",
       "      <td>5.065426</td>\n",
       "      <td>6.974676</td>\n",
       "      <td>2.621078</td>\n",
       "      <td>7.225207</td>\n",
       "      <td>7.068959</td>\n",
       "      <td>4.021849</td>\n",
       "      <td>5.291370</td>\n",
       "      <td>...</td>\n",
       "      <td>13.038809</td>\n",
       "      <td>12.717493</td>\n",
       "      <td>13.985694</td>\n",
       "      <td>13.816163</td>\n",
       "      <td>9.887965</td>\n",
       "      <td>6.594833</td>\n",
       "      <td>7.974958</td>\n",
       "      <td>2.331745</td>\n",
       "      <td>2.799020</td>\n",
       "      <td>3.011013</td>\n",
       "    </tr>\n",
       "    <tr>\n",
       "      <th>3</th>\n",
       "      <td>normal</td>\n",
       "      <td>7.683403</td>\n",
       "      <td>5.579011</td>\n",
       "      <td>4.879720</td>\n",
       "      <td>6.878121</td>\n",
       "      <td>2.508380</td>\n",
       "      <td>7.160766</td>\n",
       "      <td>6.888001</td>\n",
       "      <td>3.953837</td>\n",
       "      <td>6.011915</td>\n",
       "      <td>...</td>\n",
       "      <td>11.785462</td>\n",
       "      <td>11.218846</td>\n",
       "      <td>13.182389</td>\n",
       "      <td>12.862490</td>\n",
       "      <td>8.670256</td>\n",
       "      <td>5.167771</td>\n",
       "      <td>6.751504</td>\n",
       "      <td>2.518946</td>\n",
       "      <td>2.678521</td>\n",
       "      <td>3.041044</td>\n",
       "    </tr>\n",
       "    <tr>\n",
       "      <th>4</th>\n",
       "      <td>normal</td>\n",
       "      <td>6.844834</td>\n",
       "      <td>5.675430</td>\n",
       "      <td>4.723207</td>\n",
       "      <td>6.699592</td>\n",
       "      <td>2.514456</td>\n",
       "      <td>6.851628</td>\n",
       "      <td>6.033075</td>\n",
       "      <td>4.224256</td>\n",
       "      <td>6.072496</td>\n",
       "      <td>...</td>\n",
       "      <td>12.086133</td>\n",
       "      <td>11.566570</td>\n",
       "      <td>13.285725</td>\n",
       "      <td>13.044677</td>\n",
       "      <td>9.299935</td>\n",
       "      <td>5.380516</td>\n",
       "      <td>7.431685</td>\n",
       "      <td>2.430470</td>\n",
       "      <td>2.659238</td>\n",
       "      <td>3.218955</td>\n",
       "    </tr>\n",
       "  </tbody>\n",
       "</table>\n",
       "<p>5 rows × 54676 columns</p>\n",
       "</div>"
      ],
      "text/plain": [
       "     type  1007_s_at   1053_at    117_at    121_at  1255_g_at   1294_at  \\\n",
       "0  normal   7.944225  5.256938  4.934630  6.608426   2.484290  7.019424   \n",
       "1  normal   8.884037  5.331575  4.904832  7.204006   2.749701  6.972236   \n",
       "2  normal   7.567701  5.346073  5.065426  6.974676   2.621078  7.225207   \n",
       "3  normal   7.683403  5.579011  4.879720  6.878121   2.508380  7.160766   \n",
       "4  normal   6.844834  5.675430  4.723207  6.699592   2.514456  6.851628   \n",
       "\n",
       "    1316_at   1320_at  1405_i_at  ...  AFFX-r2-Ec-bioD-3_at  \\\n",
       "0  6.892690  4.082880   6.143621  ...             12.679336   \n",
       "1  6.070183  3.701337   4.895399  ...             13.634795   \n",
       "2  7.068959  4.021849   5.291370  ...             13.038809   \n",
       "3  6.888001  3.953837   6.011915  ...             11.785462   \n",
       "4  6.033075  4.224256   6.072496  ...             12.086133   \n",
       "\n",
       "   AFFX-r2-Ec-bioD-5_at  AFFX-r2-P1-cre-3_at  AFFX-r2-P1-cre-5_at  \\\n",
       "0             12.318159            13.799560            13.587273   \n",
       "1             13.481412            14.218437            14.140858   \n",
       "2             12.717493            13.985694            13.816163   \n",
       "3             11.218846            13.182389            12.862490   \n",
       "4             11.566570            13.285725            13.044677   \n",
       "\n",
       "   AFFX-ThrX-3_at  AFFX-ThrX-5_at  AFFX-ThrX-M_at  AFFX-TrpnX-3_at  \\\n",
       "0        9.363057        6.057322        7.563571         2.368188   \n",
       "1       11.468037        7.779574        9.760999         2.580490   \n",
       "2        9.887965        6.594833        7.974958         2.331745   \n",
       "3        8.670256        5.167771        6.751504         2.518946   \n",
       "4        9.299935        5.380516        7.431685         2.430470   \n",
       "\n",
       "   AFFX-TrpnX-5_at  AFFX-TrpnX-M_at  \n",
       "0         2.652841         2.833601  \n",
       "1         2.857335         3.066533  \n",
       "2         2.799020         3.011013  \n",
       "3         2.678521         3.041044  \n",
       "4         2.659238         3.218955  \n",
       "\n",
       "[5 rows x 54676 columns]"
      ]
     },
     "execution_count": 10,
     "metadata": {},
     "output_type": "execute_result"
    }
   ],
   "source": [
    "dft.head()"
   ]
  },
  {
   "cell_type": "code",
   "execution_count": 11,
   "metadata": {},
   "outputs": [],
   "source": [
    "ord_enc = OrdinalEncoder()\n",
    "dft[\"type\"] = ord_enc.fit_transform(dft[[\"type\"]])"
   ]
  },
  {
   "cell_type": "code",
   "execution_count": 12,
   "metadata": {},
   "outputs": [],
   "source": [
    "X=dft.drop(columns = ['type'])"
   ]
  },
  {
   "cell_type": "code",
   "execution_count": 13,
   "metadata": {},
   "outputs": [
    {
     "data": {
      "text/html": [
       "<div>\n",
       "<style scoped>\n",
       "    .dataframe tbody tr th:only-of-type {\n",
       "        vertical-align: middle;\n",
       "    }\n",
       "\n",
       "    .dataframe tbody tr th {\n",
       "        vertical-align: top;\n",
       "    }\n",
       "\n",
       "    .dataframe thead th {\n",
       "        text-align: right;\n",
       "    }\n",
       "</style>\n",
       "<table border=\"1\" class=\"dataframe\">\n",
       "  <thead>\n",
       "    <tr style=\"text-align: right;\">\n",
       "      <th></th>\n",
       "      <th>type</th>\n",
       "    </tr>\n",
       "  </thead>\n",
       "  <tbody>\n",
       "    <tr>\n",
       "      <th>0</th>\n",
       "      <td>0.0</td>\n",
       "    </tr>\n",
       "    <tr>\n",
       "      <th>1</th>\n",
       "      <td>0.0</td>\n",
       "    </tr>\n",
       "    <tr>\n",
       "      <th>2</th>\n",
       "      <td>0.0</td>\n",
       "    </tr>\n",
       "    <tr>\n",
       "      <th>3</th>\n",
       "      <td>0.0</td>\n",
       "    </tr>\n",
       "    <tr>\n",
       "      <th>4</th>\n",
       "      <td>0.0</td>\n",
       "    </tr>\n",
       "    <tr>\n",
       "      <th>...</th>\n",
       "      <td>...</td>\n",
       "    </tr>\n",
       "    <tr>\n",
       "      <th>111</th>\n",
       "      <td>1.0</td>\n",
       "    </tr>\n",
       "    <tr>\n",
       "      <th>112</th>\n",
       "      <td>1.0</td>\n",
       "    </tr>\n",
       "    <tr>\n",
       "      <th>113</th>\n",
       "      <td>1.0</td>\n",
       "    </tr>\n",
       "    <tr>\n",
       "      <th>114</th>\n",
       "      <td>1.0</td>\n",
       "    </tr>\n",
       "    <tr>\n",
       "      <th>115</th>\n",
       "      <td>1.0</td>\n",
       "    </tr>\n",
       "  </tbody>\n",
       "</table>\n",
       "<p>116 rows × 1 columns</p>\n",
       "</div>"
      ],
      "text/plain": [
       "     type\n",
       "0     0.0\n",
       "1     0.0\n",
       "2     0.0\n",
       "3     0.0\n",
       "4     0.0\n",
       "..    ...\n",
       "111   1.0\n",
       "112   1.0\n",
       "113   1.0\n",
       "114   1.0\n",
       "115   1.0\n",
       "\n",
       "[116 rows x 1 columns]"
      ]
     },
     "execution_count": 13,
     "metadata": {},
     "output_type": "execute_result"
    }
   ],
   "source": [
    "y=dft['type']\n",
    "y=pd.DataFrame(y)\n",
    "y"
   ]
  },
  {
   "cell_type": "code",
   "execution_count": 14,
   "metadata": {},
   "outputs": [
    {
     "data": {
      "text/plain": [
       "<AxesSubplot:xlabel='type'>"
      ]
     },
     "execution_count": 14,
     "metadata": {},
     "output_type": "execute_result"
    },
    {
     "data": {
      "image/png": "[encoded data removed]",
      "text/plain": [
       "<Figure size 432x288 with 1 Axes>"
      ]
     },
     "metadata": {
      "needs_background": "light"
     },
     "output_type": "display_data"
    }
   ],
   "source": [
    "y.value_counts().plot(kind=\"bar\")"
   ]
  },
  {
   "cell_type": "markdown",
   "metadata": {},
   "source": [
    "# work with features as full data & classes or target for it's output"
   ]
  },
  {
   "cell_type": "code",
   "execution_count": 15,
   "metadata": {},
   "outputs": [],
   "source": [
    "kfold=KFold(n_splits=10, random_state=42, shuffle=True)"
   ]
  },
  {
   "cell_type": "markdown",
   "metadata": {},
   "source": [
    "# GridSearch Implementation "
   ]
  },
  {
   "cell_type": "markdown",
   "metadata": {},
   "source": [
    "## Knn"
   ]
  },
  {
   "cell_type": "code",
   "execution_count": 16,
   "metadata": {},
   "outputs": [],
   "source": [
    "kn_classifier = KNeighborsClassifier()"
   ]
  },
  {
   "cell_type": "code",
   "execution_count": 17,
   "metadata": {},
   "outputs": [],
   "source": [
    "param_grid_kn = {   \n",
    "    'n_neighbors':[1,3,5,7,9,11,13,15],\n",
    "    'weights':['uniform','distance'],\n",
    "    'leaf_size':[10,30,],\n",
    "}"
   ]
  },
  {
   "cell_type": "code",
   "execution_count": 18,
   "metadata": {},
   "outputs": [],
   "source": [
    "kn_tuned =GridSearchCV(kn_classifier,param_grid=param_grid_kn, cv=kfold, verbose=2, n_jobs=4,scoring =\"accuracy\")"
   ]
  },
  {
   "cell_type": "code",
   "execution_count": 19,
   "metadata": {},
   "outputs": [
    {
     "name": "stdout",
     "output_type": "stream",
     "text": [
      "Fitting 10 folds for each of 32 candidates, totalling 320 fits\n"
     ]
    },
    {
     "data": {
      "text/plain": [
       "GridSearchCV(cv=KFold(n_splits=10, random_state=42, shuffle=True),\n",
       "             estimator=KNeighborsClassifier(), n_jobs=4,\n",
       "             param_grid={'leaf_size': [10, 30],\n",
       "                         'n_neighbors': [1, 3, 5, 7, 9, 11, 13, 15],\n",
       "                         'weights': ['uniform', 'distance']},\n",
       "             scoring='accuracy', verbose=2)"
      ]
     },
     "execution_count": 19,
     "metadata": {},
     "output_type": "execute_result"
    }
   ],
   "source": [
    "kn_tuned.fit(X, y.values.ravel())"
   ]
  },
  {
   "cell_type": "code",
   "execution_count": 20,
   "metadata": {},
   "outputs": [
    {
     "name": "stdout",
     "output_type": "stream",
     "text": [
      "0.9909090909090909\n",
      "{'leaf_size': 10, 'n_neighbors': 1, 'weights': 'uniform'}\n"
     ]
    }
   ],
   "source": [
    "print(kn_tuned.best_score_)\n",
    "print(kn_tuned.best_params_)"
   ]
  },
  {
   "cell_type": "markdown",
   "metadata": {},
   "source": [
    "## SVC"
   ]
  },
  {
   "cell_type": "code",
   "execution_count": 21,
   "metadata": {},
   "outputs": [],
   "source": [
    "svc_classifier = SVC()"
   ]
  },
  {
   "cell_type": "code",
   "execution_count": 22,
   "metadata": {},
   "outputs": [],
   "source": [
    "param_grid_svm = {\n",
    "    'C': [1,5,10,15,20,.1,30],\n",
    "    'gamma': [ 'scale','auto'],\n",
    "    'kernel': ['rbf','linear'],\n",
    "}"
   ]
  },
  {
   "cell_type": "code",
   "execution_count": 23,
   "metadata": {},
   "outputs": [],
   "source": [
    "svc_tuned =GridSearchCV(svc_classifier,param_grid=param_grid_svm,verbose=2, n_jobs=4,cv=5,scoring =\"accuracy\"  )"
   ]
  },
  {
   "cell_type": "code",
   "execution_count": 24,
   "metadata": {},
   "outputs": [
    {
     "name": "stdout",
     "output_type": "stream",
     "text": [
      "Fitting 5 folds for each of 28 candidates, totalling 140 fits\n"
     ]
    },
    {
     "data": {
      "text/plain": [
       "GridSearchCV(cv=5, estimator=SVC(), n_jobs=4,\n",
       "             param_grid={'C': [1, 5, 10, 15, 20, 0.1, 30],\n",
       "                         'gamma': ['scale', 'auto'],\n",
       "                         'kernel': ['rbf', 'linear']},\n",
       "             scoring='accuracy', verbose=2)"
      ]
     },
     "execution_count": 24,
     "metadata": {},
     "output_type": "execute_result"
    }
   ],
   "source": [
    "svc_tuned.fit(X,  y.values.ravel())"
   ]
  },
  {
   "cell_type": "code",
   "execution_count": 25,
   "metadata": {},
   "outputs": [
    {
     "name": "stdout",
     "output_type": "stream",
     "text": [
      "0.9916666666666668\n",
      "{'C': 1, 'gamma': 'scale', 'kernel': 'rbf'}\n"
     ]
    }
   ],
   "source": [
    "print(svc_tuned.best_score_)\n",
    "print(svc_tuned.best_params_)"
   ]
  },
  {
   "cell_type": "markdown",
   "metadata": {},
   "source": [
    "# RF"
   ]
  },
  {
   "cell_type": "code",
   "execution_count": 26,
   "metadata": {},
   "outputs": [],
   "source": [
    "rf_classifier = RandomForestClassifier()"
   ]
  },
  {
   "cell_type": "code",
   "execution_count": 27,
   "metadata": {},
   "outputs": [],
   "source": [
    "param_grid_rf = {\n",
    "    'n_estimators': [20,40,60,80,100,],\n",
    "    'max_depth':[1,3,5,None],\n",
    "    'criterion':['gini','entropy',],\n",
    "    'max_features':['sqrt','log2',],\n",
    "    'random_state':[42],\n",
    "}"
   ]
  },
  {
   "cell_type": "code",
   "execution_count": 28,
   "metadata": {},
   "outputs": [],
   "source": [
    "rf_tuned = GridSearchCV(\n",
    "    rf_classifier, param_grid=param_grid_rf, cv=kfold, verbose=2, n_jobs=4,scoring =\"accuracy\" )"
   ]
  },
  {
   "cell_type": "code",
   "execution_count": 29,
   "metadata": {},
   "outputs": [
    {
     "name": "stdout",
     "output_type": "stream",
     "text": [
      "Fitting 10 folds for each of 80 candidates, totalling 800 fits\n"
     ]
    },
    {
     "data": {
      "text/plain": [
       "GridSearchCV(cv=KFold(n_splits=10, random_state=42, shuffle=True),\n",
       "             estimator=RandomForestClassifier(), n_jobs=4,\n",
       "             param_grid={'criterion': ['gini', 'entropy'],\n",
       "                         'max_depth': [1, 3, 5, None],\n",
       "                         'max_features': ['sqrt', 'log2'],\n",
       "                         'n_estimators': [20, 40, 60, 80, 100],\n",
       "                         'random_state': [42]},\n",
       "             scoring='accuracy', verbose=2)"
      ]
     },
     "execution_count": 29,
     "metadata": {},
     "output_type": "execute_result"
    }
   ],
   "source": [
    "rf_tuned.fit(X,  y.values.ravel())"
   ]
  },
  {
   "cell_type": "code",
   "execution_count": 30,
   "metadata": {},
   "outputs": [
    {
     "name": "stdout",
     "output_type": "stream",
     "text": [
      "0.9825757575757574\n",
      "{'criterion': 'gini', 'max_depth': 1, 'max_features': 'sqrt', 'n_estimators': 20, 'random_state': 42}\n"
     ]
    }
   ],
   "source": [
    "print(rf_tuned.best_score_)\n",
    "print(rf_tuned.best_params_)"
   ]
  },
  {
   "cell_type": "markdown",
   "metadata": {},
   "source": [
    "**Train Test Split :**\n",
    "\n",
    "**we trained the features split percentages (Train: 65%, Test: 35%)**"
   ]
  },
  {
   "cell_type": "code",
   "execution_count": 156,
   "metadata": {},
   "outputs": [],
   "source": [
    "X_train, X_test, Y_train, Y_test = train_test_split(X, y, test_size=0.35, random_state=42,)"
   ]
  },
  {
   "cell_type": "markdown",
   "metadata": {},
   "source": [
    "## KNN"
   ]
  },
  {
   "cell_type": "code",
   "execution_count": 157,
   "metadata": {},
   "outputs": [],
   "source": [
    "knn=KNeighborsClassifier()"
   ]
  },
  {
   "cell_type": "code",
   "execution_count": 158,
   "metadata": {},
   "outputs": [
    {
     "data": {
      "text/plain": [
       "KNeighborsClassifier()"
      ]
     },
     "execution_count": 158,
     "metadata": {},
     "output_type": "execute_result"
    }
   ],
   "source": [
    "knn.fit(X_train,Y_train)"
   ]
  },
  {
   "cell_type": "code",
   "execution_count": 159,
   "metadata": {},
   "outputs": [
    {
     "data": {
      "text/plain": [
       "0.9866666666666667"
      ]
     },
     "execution_count": 159,
     "metadata": {},
     "output_type": "execute_result"
    }
   ],
   "source": [
    "knn.score(X_train, Y_train) #Train Score"
   ]
  },
  {
   "cell_type": "code",
   "execution_count": 160,
   "metadata": {},
   "outputs": [
    {
     "data": {
      "text/plain": [
       "1.0"
      ]
     },
     "execution_count": 160,
     "metadata": {},
     "output_type": "execute_result"
    }
   ],
   "source": [
    "KNNaccuracy=knn.score(X_test, Y_test) #Test Score\n",
    "KNNaccuracy"
   ]
  },
  {
   "cell_type": "code",
   "execution_count": 161,
   "metadata": {},
   "outputs": [
    {
     "name": "stdout",
     "output_type": "stream",
     "text": [
      "              precision    recall  f1-score   support\n",
      "\n",
      "         0.0       1.00      1.00      1.00         6\n",
      "         1.0       1.00      1.00      1.00        35\n",
      "\n",
      "    accuracy                           1.00        41\n",
      "   macro avg       1.00      1.00      1.00        41\n",
      "weighted avg       1.00      1.00      1.00        41\n",
      "\n"
     ]
    }
   ],
   "source": [
    "from sklearn.metrics import classification_report\n",
    "y_pred=knn.predict(X_test)\n",
    "print(classification_report(Y_test, y_pred))"
   ]
  },
  {
   "cell_type": "markdown",
   "metadata": {},
   "source": [
    "## svm"
   ]
  },
  {
   "cell_type": "code",
   "execution_count": 162,
   "metadata": {},
   "outputs": [],
   "source": [
    "svc =SVC()"
   ]
  },
  {
   "cell_type": "code",
   "execution_count": 163,
   "metadata": {},
   "outputs": [
    {
     "data": {
      "text/plain": [
       "SVC()"
      ]
     },
     "execution_count": 163,
     "metadata": {},
     "output_type": "execute_result"
    }
   ],
   "source": [
    "svc.fit(X_train,Y_train)"
   ]
  },
  {
   "cell_type": "code",
   "execution_count": 164,
   "metadata": {},
   "outputs": [
    {
     "data": {
      "text/plain": [
       "0.96"
      ]
     },
     "execution_count": 164,
     "metadata": {},
     "output_type": "execute_result"
    }
   ],
   "source": [
    "svc.score(X_train, Y_train) #Train Score"
   ]
  },
  {
   "cell_type": "code",
   "execution_count": 165,
   "metadata": {},
   "outputs": [
    {
     "data": {
      "text/plain": [
       "1.0"
      ]
     },
     "execution_count": 165,
     "metadata": {},
     "output_type": "execute_result"
    }
   ],
   "source": [
    "SVCaccuracy=svc.score(X_test, Y_test) #Test Score\n",
    "SVCaccuracy"
   ]
  },
  {
   "cell_type": "code",
   "execution_count": 166,
   "metadata": {},
   "outputs": [
    {
     "name": "stdout",
     "output_type": "stream",
     "text": [
      "              precision    recall  f1-score   support\n",
      "\n",
      "         0.0       1.00      1.00      1.00         6\n",
      "         1.0       1.00      1.00      1.00        35\n",
      "\n",
      "    accuracy                           1.00        41\n",
      "   macro avg       1.00      1.00      1.00        41\n",
      "weighted avg       1.00      1.00      1.00        41\n",
      "\n"
     ]
    }
   ],
   "source": [
    "from sklearn.metrics import classification_report\n",
    "y_pred=svc.predict(X_test)\n",
    "print(classification_report(Y_test, y_pred))"
   ]
  },
  {
   "cell_type": "markdown",
   "metadata": {},
   "source": [
    "## RF"
   ]
  },
  {
   "cell_type": "code",
   "execution_count": 167,
   "metadata": {},
   "outputs": [],
   "source": [
    "rf =RandomForestClassifier()"
   ]
  },
  {
   "cell_type": "code",
   "execution_count": 168,
   "metadata": {},
   "outputs": [
    {
     "data": {
      "text/plain": [
       "RandomForestClassifier()"
      ]
     },
     "execution_count": 168,
     "metadata": {},
     "output_type": "execute_result"
    }
   ],
   "source": [
    "rf.fit(X_train,Y_train)"
   ]
  },
  {
   "cell_type": "code",
   "execution_count": 169,
   "metadata": {},
   "outputs": [
    {
     "data": {
      "text/plain": [
       "1.0"
      ]
     },
     "execution_count": 169,
     "metadata": {},
     "output_type": "execute_result"
    }
   ],
   "source": [
    "rf.score(X_train, Y_train) #Train Score"
   ]
  },
  {
   "cell_type": "code",
   "execution_count": 170,
   "metadata": {},
   "outputs": [
    {
     "data": {
      "text/plain": [
       "1.0"
      ]
     },
     "execution_count": 170,
     "metadata": {},
     "output_type": "execute_result"
    }
   ],
   "source": [
    "RFaccuracy=rf.score(X_test, Y_test) #Test Score\n",
    "RFaccuracy"
   ]
  },
  {
   "cell_type": "code",
   "execution_count": 171,
   "metadata": {},
   "outputs": [
    {
     "name": "stdout",
     "output_type": "stream",
     "text": [
      "              precision    recall  f1-score   support\n",
      "\n",
      "         0.0       1.00      1.00      1.00         6\n",
      "         1.0       1.00      1.00      1.00        35\n",
      "\n",
      "    accuracy                           1.00        41\n",
      "   macro avg       1.00      1.00      1.00        41\n",
      "weighted avg       1.00      1.00      1.00        41\n",
      "\n"
     ]
    }
   ],
   "source": [
    "from sklearn.metrics import classification_report\n",
    "y_pred=rf.predict(X_test)\n",
    "print(classification_report(Y_test, y_pred))"
   ]
  },
  {
   "cell_type": "markdown",
   "metadata": {},
   "source": [
    "### Before Feature Selection and Parameters Tuning"
   ]
  },
  {
   "cell_type": "code",
   "execution_count": 172,
   "metadata": {},
   "outputs": [
    {
     "data": {
      "text/plain": [
       "[(0.0, 100.0)]"
      ]
     },
     "execution_count": 172,
     "metadata": {},
     "output_type": "execute_result"
    },
    {
     "data": {
      "image/png": "[encoded data removed]",
      "text/plain": [
       "<Figure size 576x432 with 1 Axes>"
      ]
     },
     "metadata": {},
     "output_type": "display_data"
    }
   ],
   "source": [
    "plt.style.use(\"seaborn\")\n",
    "\n",
    "xl1 = [\"Random Forest Classifier\",  \n",
    "     \"Support Vector Classifier\",\"KNeighbors Classifier \"]\n",
    "\n",
    "yv1 = [RFaccuracy*100, \n",
    "     SVCaccuracy*100,\n",
    "     KNNaccuracy*100,]\n",
    "\n",
    "fig, ax = plt.subplots(figsize=(8,6))\n",
    "sns.barplot(x=xl1,y=yv1, palette=\"crest\");\n",
    "plt.ylabel(\"Model Accuracy\")\n",
    "plt.title(\"Model Comparison - Model Accuracy\", fontsize=16, fontname=\"arial\", y=1);\n",
    "ax.set(ylim=(0, 100))"
   ]
  },
  {
   "cell_type": "markdown",
   "metadata": {
    "id": "uNUgh9SNOOp7"
   },
   "source": [
    "# Feature selection Code :"
   ]
  },
  {
   "cell_type": "code",
   "execution_count": 173,
   "metadata": {},
   "outputs": [],
   "source": [
    "from sklearn.feature_selection import SelectKBest\n",
    "from sklearn.feature_selection import chi2\n",
    "select=SelectKBest(chi2, k=5000)\n",
    "X_train_selected = select.fit_transform(X_train, Y_train)\n",
    "X_test_selected= select.transform(X_test)"
   ]
  },
  {
   "cell_type": "markdown",
   "metadata": {},
   "source": [
    "# Evalutaed models"
   ]
  },
  {
   "cell_type": "markdown",
   "metadata": {},
   "source": [
    "### Random Forest"
   ]
  },
  {
   "cell_type": "code",
   "execution_count": 174,
   "metadata": {},
   "outputs": [],
   "source": [
    "rf_evalutaed =RandomForestClassifier(**rf_tuned.best_params_)"
   ]
  },
  {
   "cell_type": "code",
   "execution_count": 175,
   "metadata": {},
   "outputs": [
    {
     "data": {
      "text/plain": [
       "RandomForestClassifier(max_depth=1, max_features='sqrt', n_estimators=20,\n",
       "                       random_state=42)"
      ]
     },
     "execution_count": 175,
     "metadata": {},
     "output_type": "execute_result"
    }
   ],
   "source": [
    "rf_evalutaed.fit(X_train_selected,Y_train)"
   ]
  },
  {
   "cell_type": "code",
   "execution_count": 176,
   "metadata": {},
   "outputs": [
    {
     "data": {
      "text/plain": [
       "1.0"
      ]
     },
     "execution_count": 176,
     "metadata": {},
     "output_type": "execute_result"
    }
   ],
   "source": [
    "rf_evalutaed.score(X_train_selected, Y_train) #Train Score"
   ]
  },
  {
   "cell_type": "code",
   "execution_count": 177,
   "metadata": {},
   "outputs": [
    {
     "data": {
      "text/plain": [
       "0.975609756097561"
      ]
     },
     "execution_count": 177,
     "metadata": {},
     "output_type": "execute_result"
    }
   ],
   "source": [
    "RFTaccuracy=rf_evalutaed.score(X_test_selected, Y_test) #Test Score\n",
    "RFTaccuracy"
   ]
  },
  {
   "cell_type": "code",
   "execution_count": 178,
   "metadata": {},
   "outputs": [
    {
     "name": "stdout",
     "output_type": "stream",
     "text": [
      "              precision    recall  f1-score   support\n",
      "\n",
      "         0.0       1.00      0.83      0.91         6\n",
      "         1.0       0.97      1.00      0.99        35\n",
      "\n",
      "    accuracy                           0.98        41\n",
      "   macro avg       0.99      0.92      0.95        41\n",
      "weighted avg       0.98      0.98      0.97        41\n",
      "\n"
     ]
    }
   ],
   "source": [
    "from sklearn.metrics import classification_report\n",
    "y_pred=rf_evalutaed.predict(X_test_selected)\n",
    "print(classification_report(Y_test, y_pred))"
   ]
  },
  {
   "cell_type": "markdown",
   "metadata": {},
   "source": [
    "### SVC"
   ]
  },
  {
   "cell_type": "code",
   "execution_count": 179,
   "metadata": {},
   "outputs": [],
   "source": [
    "svc_evalutaed =SVC(**svc_tuned.best_params_)"
   ]
  },
  {
   "cell_type": "code",
   "execution_count": 180,
   "metadata": {},
   "outputs": [
    {
     "data": {
      "text/plain": [
       "SVC(C=1)"
      ]
     },
     "execution_count": 180,
     "metadata": {},
     "output_type": "execute_result"
    }
   ],
   "source": [
    "svc_evalutaed.fit(X_train_selected,Y_train)"
   ]
  },
  {
   "cell_type": "code",
   "execution_count": 181,
   "metadata": {},
   "outputs": [
    {
     "data": {
      "text/plain": [
       "0.9866666666666667"
      ]
     },
     "execution_count": 181,
     "metadata": {},
     "output_type": "execute_result"
    }
   ],
   "source": [
    "svc_evalutaed.score(X_train_selected, Y_train) #Train Score"
   ]
  },
  {
   "cell_type": "code",
   "execution_count": 182,
   "metadata": {},
   "outputs": [
    {
     "data": {
      "text/plain": [
       "1.0"
      ]
     },
     "execution_count": 182,
     "metadata": {},
     "output_type": "execute_result"
    }
   ],
   "source": [
    "SVCTaccuracy=svc_evalutaed.score(X_test_selected, Y_test) #Test Score\n",
    "SVCTaccuracy"
   ]
  },
  {
   "cell_type": "code",
   "execution_count": 183,
   "metadata": {},
   "outputs": [
    {
     "name": "stdout",
     "output_type": "stream",
     "text": [
      "[[ 6  0]\n",
      " [ 0 35]]\n",
      "              precision    recall  f1-score   support\n",
      "\n",
      "         0.0       1.00      1.00      1.00         6\n",
      "         1.0       1.00      1.00      1.00        35\n",
      "\n",
      "    accuracy                           1.00        41\n",
      "   macro avg       1.00      1.00      1.00        41\n",
      "weighted avg       1.00      1.00      1.00        41\n",
      "\n"
     ]
    }
   ],
   "source": [
    "from sklearn.metrics import classification_report\n",
    "y_pred=svc_evalutaed.predict(X_test_selected)\n",
    "print(confusion_matrix(Y_test, y_pred))\n",
    "print(classification_report(Y_test, y_pred))"
   ]
  },
  {
   "cell_type": "markdown",
   "metadata": {},
   "source": [
    "### KNeighbors"
   ]
  },
  {
   "cell_type": "code",
   "execution_count": 184,
   "metadata": {},
   "outputs": [],
   "source": [
    "knn_evalutae=KNeighborsClassifier(**kn_tuned.best_params_)"
   ]
  },
  {
   "cell_type": "code",
   "execution_count": 185,
   "metadata": {},
   "outputs": [
    {
     "data": {
      "text/plain": [
       "KNeighborsClassifier(leaf_size=10, n_neighbors=1)"
      ]
     },
     "execution_count": 185,
     "metadata": {},
     "output_type": "execute_result"
    }
   ],
   "source": [
    "knn_evalutae.fit(X_train_selected,Y_train)"
   ]
  },
  {
   "cell_type": "code",
   "execution_count": 186,
   "metadata": {},
   "outputs": [
    {
     "data": {
      "text/plain": [
       "1.0"
      ]
     },
     "execution_count": 186,
     "metadata": {},
     "output_type": "execute_result"
    }
   ],
   "source": [
    "knn_evalutae.score(X_train_selected, Y_train) #Train Score"
   ]
  },
  {
   "cell_type": "code",
   "execution_count": 187,
   "metadata": {},
   "outputs": [
    {
     "data": {
      "text/plain": [
       "1.0"
      ]
     },
     "execution_count": 187,
     "metadata": {},
     "output_type": "execute_result"
    }
   ],
   "source": [
    "KNNTaccuracy=knn_evalutae.score(X_test_selected, Y_test) #Test Score\n",
    "KNNTaccuracy"
   ]
  },
  {
   "cell_type": "code",
   "execution_count": 188,
   "metadata": {},
   "outputs": [
    {
     "name": "stdout",
     "output_type": "stream",
     "text": [
      "              precision    recall  f1-score   support\n",
      "\n",
      "         0.0       1.00      1.00      1.00         6\n",
      "         1.0       1.00      1.00      1.00        35\n",
      "\n",
      "    accuracy                           1.00        41\n",
      "   macro avg       1.00      1.00      1.00        41\n",
      "weighted avg       1.00      1.00      1.00        41\n",
      "\n"
     ]
    }
   ],
   "source": [
    "from sklearn.metrics import classification_report\n",
    "y_pred=knn_evalutae.predict(X_test_selected)\n",
    "print(classification_report(Y_test, y_pred))"
   ]
  },
  {
   "cell_type": "markdown",
   "metadata": {},
   "source": [
    "## After Feature Selection"
   ]
  },
  {
   "cell_type": "code",
   "execution_count": 189,
   "metadata": {},
   "outputs": [
    {
     "data": {
      "text/plain": [
       "[(0.0, 100.0)]"
      ]
     },
     "execution_count": 189,
     "metadata": {},
     "output_type": "execute_result"
    },
    {
     "data": {
      "image/png": "[encoded data removed]",
      "text/plain": [
       "<Figure size 576x432 with 1 Axes>"
      ]
     },
     "metadata": {},
     "output_type": "display_data"
    }
   ],
   "source": [
    "plt.style.use(\"seaborn\")\n",
    "\n",
    "x2 = [\"Random Forest Classifier\",  \n",
    "     \"Support Vector Classifier\",\"KNeighbors Classifier \"]\n",
    "\n",
    "y2 = [RFTaccuracy*100, \n",
    "     SVCTaccuracy*100,\n",
    "     KNNTaccuracy*100,]\n",
    "\n",
    "fig, ax = plt.subplots(figsize=(8,6))\n",
    "sns.barplot(x=x2,y=y2, palette=\"crest\");\n",
    "plt.ylabel(\"Model Accuracy\")\n",
    "plt.title(\"Model Comparison - Model Accuracy\", fontsize=16, fontname=\"arial\", y=1);\n",
    "ax.set(ylim=(0, 100))"
   ]
  },
  {
   "cell_type": "code",
   "execution_count": null,
   "metadata": {},
   "outputs": [],
   "source": [
    "from joblib import dump\n",
    "\n",
    "dump(rf_evalutaed, './REAST_cancer_RF.joblib')\n",
    "Y_test=Y_test.replace({0: 'Tumoral', 1: 'Normal'})\n",
    "pd.DataFrame(Y_test).to_csv('Liver_result',)\n",
    "pd.DataFrame(X_test_selected).to_csv('Liver_test',)"
   ]
  },
  {
   "cell_type": "code",
   "execution_count": null,
   "metadata": {},
   "outputs": [],
   "source": []
  },
  {
   "cell_type": "code",
   "execution_count": null,
   "metadata": {},
   "outputs": [],
   "source": []
  },
  {
   "cell_type": "code",
   "execution_count": null,
   "metadata": {},
   "outputs": [],
   "source": []
  },
  {
   "cell_type": "code",
   "execution_count": null,
   "metadata": {},
   "outputs": [],
   "source": []
  },
  {
   "cell_type": "code",
   "execution_count": null,
   "metadata": {},
   "outputs": [],
   "source": []
  },
  {
   "cell_type": "code",
   "execution_count": 65,
   "metadata": {},
   "outputs": [
    {
     "name": "stdout",
     "output_type": "stream",
     "text": [
      "Selecting features with genetic algorithm.\n",
      "gen\tnevals\tavg                                        \tstd                                        \tmin                                     \tmax                                        \n",
      "0  \t60    \t[     0.960714  29249.366667      0.060187]\t[     0.        16601.470944      0.      ]\t[    0.960714  2235.           0.060187]\t[     0.960714  54631.            0.060187]\n",
      "1  \t29    \t[    0.960714  8476.433333     0.060187]   \t[    0.        6230.657296     0.      ]   \t[    0.960714  2235.           0.060187]\t[     0.960714  33148.            0.060187]\n",
      "2  \t46    \t[    0.960714  3256.633333     0.060187]   \t[    0.        1373.682605     0.      ]   \t[    0.960714  2235.           0.060187]\t[    0.960714  7672.           0.060187]   \n",
      "3  \t26    \t[    0.960714  2706.716667     0.060187]   \t[    0.        1069.441039     0.      ]   \t[    0.960714  2233.           0.060187]\t[    0.960714  5539.           0.060187]   \n",
      "4  \t41    \t[    0.960714  3034.65         0.060187]   \t[    0.        1326.860729     0.      ]   \t[    0.960714  2229.           0.060187]\t[    0.960714  5316.           0.060187]   \n",
      "5  \t42    \t[    0.960714  2737.033333     0.060187]   \t[    0.        1127.239326     0.      ]   \t[    0.960714  2222.           0.060187]\t[    0.960714  5344.           0.060187]   \n",
      "6  \t34    \t[    0.960714  2829.116667     0.060187]   \t[    0.        1203.552908     0.      ]   \t[    0.960714  2218.           0.060187]\t[    0.960714  5354.           0.060187]   \n",
      "7  \t45    \t[    0.960714  2923.8          0.060187]   \t[    0.        1272.112008     0.      ]   \t[    0.960714  2213.           0.060187]\t[    0.960714  5338.           0.060187]   \n",
      "8  \t38    \t[    0.960714  2669.133333     0.060187]   \t[    0.        1075.482116     0.      ]   \t[    0.960714  2206.           0.060187]\t[    0.960714  5329.           0.060187]   \n",
      "9  \t44    \t[    0.960714  2563.85         0.060187]   \t[   0.        968.365131    0.      ]      \t[    0.960714  2205.           0.060187]\t[    0.960714  5351.           0.060187]   \n",
      "10 \t36    \t[    0.960714  2812.183333     0.060187]   \t[    0.       1211.42736     0.     ]      \t[    0.960714  2200.           0.060187]\t[    0.960714  5297.           0.060187]   \n"
     ]
    }
   ],
   "source": [
    "from genetic_selection import GeneticSelectionCV\n",
    "\n",
    "selectors = GeneticSelectionCV(svc_evalutaed,\n",
    "                               cv=kfold,\n",
    "                               verbose=1,\n",
    "                               scoring='accuracy',\n",
    "                         \n",
    "                               \n",
    "                               n_population=60,\n",
    "                               crossover_proba=0.60,\n",
    "                               mutation_proba=0.2,\n",
    "                               n_generations=10,\n",
    "                               crossover_independent_proba=0.6,\n",
    "                               mutation_independent_proba=0.06,\n",
    "                               tournament_size=8,\n",
    "                               caching=True,\n",
    "                               n_jobs=4)\n",
    "selectors = selectors.fit(X_train, Y_train)\n"
   ]
  },
  {
   "cell_type": "code",
   "execution_count": 66,
   "metadata": {},
   "outputs": [
    {
     "name": "stdout",
     "output_type": "stream",
     "text": [
      "Feature Selection: Index(['1552299_at', '1552304_at', '1552449_a_at', '1552497_a_at',\n",
      "       '1552504_a_at', '1552557_a_at', '1552566_at', '1552620_at',\n",
      "       '1552641_s_at', '1552656_s_at',\n",
      "       ...\n",
      "       '57163_at', '58308_at', '58900_at', '60528_at', '635_s_at', '65472_at',\n",
      "       '65630_at', '78047_s_at', '90265_at', 'AFFX-PheX-3_at'],\n",
      "      dtype='object', length=2200)\n"
     ]
    }
   ],
   "source": [
    "print('Feature Selection:', X_train.columns[selectors.support_])"
   ]
  },
  {
   "cell_type": "code",
   "execution_count": 67,
   "metadata": {},
   "outputs": [
    {
     "data": {
      "text/plain": [
       "0.9866666666666667"
      ]
     },
     "execution_count": 67,
     "metadata": {},
     "output_type": "execute_result"
    }
   ],
   "source": [
    "selectors.score(X_train, Y_train) #Train Score"
   ]
  },
  {
   "cell_type": "code",
   "execution_count": 68,
   "metadata": {},
   "outputs": [
    {
     "data": {
      "text/plain": [
       "1.0"
      ]
     },
     "execution_count": 68,
     "metadata": {},
     "output_type": "execute_result"
    }
   ],
   "source": [
    "selectors.score(X_test, Y_test) #Test Score"
   ]
  },
  {
   "cell_type": "code",
   "execution_count": 69,
   "metadata": {},
   "outputs": [
    {
     "name": "stdout",
     "output_type": "stream",
     "text": [
      "[[ 6  0]\n",
      " [ 0 35]]\n",
      "              precision    recall  f1-score   support\n",
      "\n",
      "         0.0       1.00      1.00      1.00         6\n",
      "         1.0       1.00      1.00      1.00        35\n",
      "\n",
      "    accuracy                           1.00        41\n",
      "   macro avg       1.00      1.00      1.00        41\n",
      "weighted avg       1.00      1.00      1.00        41\n",
      "\n"
     ]
    }
   ],
   "source": [
    "from sklearn.metrics import classification_report\n",
    "y_pred=selectors.predict(X_test)\n",
    "print(confusion_matrix(Y_test, y_pred))\n",
    "print(classification_report(Y_test, y_pred))"
   ]
  },
  {
   "cell_type": "code",
   "execution_count": null,
   "metadata": {},
   "outputs": [],
   "source": []
  },
  {
   "cell_type": "code",
   "execution_count": null,
   "metadata": {},
   "outputs": [],
   "source": []
  },
  {
   "cell_type": "code",
   "execution_count": null,
   "metadata": {},
   "outputs": [],
   "source": []
  },
  {
   "cell_type": "code",
   "execution_count": null,
   "metadata": {},
   "outputs": [],
   "source": []
  },
  {
   "cell_type": "code",
   "execution_count": null,
   "metadata": {},
   "outputs": [],
   "source": []
  },
  {
   "cell_type": "code",
   "execution_count": null,
   "metadata": {},
   "outputs": [],
   "source": []
  },
  {
   "cell_type": "code",
   "execution_count": null,
   "metadata": {},
   "outputs": [],
   "source": []
  },
  {
   "cell_type": "code",
   "execution_count": null,
   "metadata": {},
   "outputs": [],
   "source": []
  },
  {
   "cell_type": "code",
   "execution_count": null,
   "metadata": {},
   "outputs": [],
   "source": []
  }
 ],
 "metadata": {
  "colab": {
   "collapsed_sections": [],
   "name": "finalProject.ipynb",
   "provenance": []
  },
  "kernelspec": {
   "display_name": "Python 3 (ipykernel)",
   "language": "python",
   "name": "python3"
  },
  "language_info": {
   "codemirror_mode": {
    "name": "ipython",
    "version": 3
   },
   "file_extension": ".py",
   "mimetype": "text/x-python",
   "name": "python",
   "nbconvert_exporter": "python",
   "pygments_lexer": "ipython3",
   "version": "3.9.7"
  }
 },
 "nbformat": 4,
 "nbformat_minor": 1
}
